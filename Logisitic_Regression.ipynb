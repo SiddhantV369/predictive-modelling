{
  "nbformat": 4,
  "nbformat_minor": 0,
  "metadata": {
    "colab": {
      "provenance": [],
      "authorship_tag": "ABX9TyOSE+tI4amgtaeAu6g5Uabj",
      "include_colab_link": true
    },
    "kernelspec": {
      "name": "python3",
      "display_name": "Python 3"
    },
    "language_info": {
      "name": "python"
    }
  },
  "cells": [
    {
      "cell_type": "markdown",
      "metadata": {
        "id": "view-in-github",
        "colab_type": "text"
      },
      "source": [
        "<a href=\"https://colab.research.google.com/github/SiddhantV369/predictive-modelling/blob/main/Logisitic_Regression.ipynb\" target=\"_parent\"><img src=\"https://colab.research.google.com/assets/colab-badge.svg\" alt=\"Open In Colab\"/></a>"
      ]
    },
    {
      "cell_type": "code",
      "source": [
        "from sklearn.datasets import load_iris\n",
        "import pandas as pd\n",
        "import numpy as np\n",
        "\n",
        "iris=pd.DataFrame(load_iris().data)\n",
        "targets=pd.Series(load_iris().target)\n"
      ],
      "metadata": {
        "id": "57WFAxW8SQnx"
      },
      "execution_count": 100,
      "outputs": []
    },
    {
      "cell_type": "code",
      "source": [
        "\n",
        "def sigmoid(x):\n",
        "    return 1/(1+np.exp(-x))\n",
        "\n",
        "class LogisticReg():\n",
        "\n",
        "    def __init__(self, lr=0.001, n_iters=1000, num_classes=2):\n",
        "        self.lr = lr\n",
        "        self.n_iters = n_iters\n",
        "        self.num_classes = num_classes\n",
        "        self.weights = []\n",
        "        self.bias = []\n",
        "\n",
        "    def fit(self, X, y):\n",
        "        n_samples, n_features = X.shape\n",
        "        self.weights = []\n",
        "        self.bias = []\n",
        "\n",
        "        for i in range(self.num_classes):\n",
        "            binary_y = (y == i).astype(int)\n",
        "\n",
        "            w = np.zeros(n_features)\n",
        "            b = 0\n",
        "\n",
        "            for _ in range(self.n_iters):\n",
        "                linear_pred = np.dot(X, w) + b\n",
        "                predictions = sigmoid(linear_pred)\n",
        "\n",
        "                dw = (1/n_samples) * np.dot(X.T, (predictions - binary_y))\n",
        "                db = (1/n_samples) * np.sum(predictions-binary_y)\n",
        "\n",
        "                w = w - self.lr*dw\n",
        "                b = b - self.lr*db\n",
        "\n",
        "            self.weights.append(w)\n",
        "            self.bias.append(b)\n",
        "\n",
        "\n",
        "    def predict(self, X):\n",
        "        predictions = []\n",
        "        for i in range(self.num_classes):\n",
        "            linear_pred = np.dot(X, self.weights[i]) + self.bias[i]\n",
        "            predictions.append(sigmoid(linear_pred))\n",
        "\n",
        "        predictions = np.array(predictions).T\n",
        "        class_pred = np.argmax(predictions, axis=1)\n",
        "        return class_pred"
      ],
      "metadata": {
        "id": "pTJ7oxKva0kw"
      },
      "execution_count": 101,
      "outputs": []
    },
    {
      "cell_type": "code",
      "source": [
        "from sklearn.model_selection import train_test_split\n",
        "import matplotlib.pyplot as plt\n",
        "\n",
        "\n",
        "X = iris\n",
        "y = targets\n",
        "\n",
        "xtrain,xtest,ytrain,ytest=train_test_split(X,y,test_size=0.2,random_state=42)\n",
        "myReg=LogisticReg(lr=0.1, num_classes=3)\n",
        "\n",
        "myReg.fit(xtrain,ytrain)\n",
        "\n",
        "ypred=myReg.predict(xtest)\n",
        "print(ypred)\n",
        "\n",
        "\n",
        "def accuracy(y_pred, y_test):\n",
        "    return np.sum(y_pred == y_test) / len(y_test)\n",
        "\n",
        "acc = accuracy(ypred, ytest)\n",
        "print(f\"Accuracy: {acc}\")"
      ],
      "metadata": {
        "colab": {
          "base_uri": "https://localhost:8080/"
        },
        "id": "4hzbJoG-WbOt",
        "outputId": "d291f692-6822-461a-d0c7-a4931ca17f85"
      },
      "execution_count": 102,
      "outputs": [
        {
          "output_type": "stream",
          "name": "stdout",
          "text": [
            "[1 0 2 1 1 0 1 2 1 1 2 0 0 0 0 1 2 1 1 2 0 2 0 2 2 2 2 2 0 0]\n",
            "Accuracy: 1.0\n"
          ]
        }
      ]
    },
    {
      "cell_type": "code",
      "source": [
        "from sklearn.metrics import confusion_matrix, classification_report\n",
        "import seaborn as sns\n",
        "import matplotlib.pyplot as plt\n",
        "\n",
        "# confusion matrix\n",
        "cm = confusion_matrix(ytest, ypred)\n",
        "print(\"Confusion Matrix:\")\n",
        "\n",
        "\n",
        "plt.figure(figsize=(8, 6))\n",
        "sns.heatmap(cm, annot=True, fmt='d', cmap='Blues', xticklabels=['0', '1', '2'], yticklabels=['0', '1', '2'])\n",
        "plt.xlabel('Predicted')\n",
        "plt.ylabel('Actual')\n",
        "plt.title('Confusion Matrix')\n",
        "plt.show()\n",
        "\n"
      ],
      "metadata": {
        "colab": {
          "base_uri": "https://localhost:8080/",
          "height": 581
        },
        "id": "msF993iIcmv2",
        "outputId": "96805150-461c-4ed8-969a-4d9df412104c"
      },
      "execution_count": 103,
      "outputs": [
        {
          "output_type": "stream",
          "name": "stdout",
          "text": [
            "Confusion Matrix:\n"
          ]
        },
        {
          "output_type": "display_data",
          "data": {
            "text/plain": [
              "<Figure size 800x600 with 2 Axes>"
            ],
            "image/png": "[encoded data removed]"
          },
          "metadata": {}
        }
      ]
    },
    {
      "cell_type": "code",
      "source": [
        "from sklearn.linear_model import LogisticRegression\n",
        "from sklearn.metrics import accuracy_score, classification_report\n",
        "\n",
        "\n",
        "sk_model = LogisticRegression(multi_class='ovr')\n",
        "sk_model.fit(xtrain, ytrain)\n",
        "sk_ypred = sk_model.predict(xtest)\n",
        "\n",
        "def accuracy(y_pred, y_test):\n",
        "    return np.sum(y_pred == y_test) / len(y_test)\n",
        "\n",
        "acc = accuracy(sk_ypred, ytest)\n",
        "print(f\"Accuracy: {acc}\")\n",
        "\n",
        "# confusion matrix\n",
        "cm = confusion_matrix(ytest,sk_ypred)\n",
        "print(\"Confusion Matrix:\")\n",
        "\n",
        "\n",
        "plt.figure(figsize=(8, 6))\n",
        "sns.heatmap(cm, annot=True, fmt='d', cmap='Blues', xticklabels=['0', '1', '2'], yticklabels=['0', '1', '2'])\n",
        "plt.xlabel('Predicted')\n",
        "plt.ylabel('Actual')\n",
        "plt.title('Confusion Matrix')\n",
        "plt.show()\n",
        "\n",
        "\n",
        "\n",
        "\n"
      ],
      "metadata": {
        "colab": {
          "base_uri": "https://localhost:8080/",
          "height": 653
        },
        "id": "USz7Fh22c7O9",
        "outputId": "55bb2812-2c5a-4beb-c5a4-2ce4be78346b"
      },
      "execution_count": 104,
      "outputs": [
        {
          "output_type": "stream",
          "name": "stderr",
          "text": [
            "/usr/local/lib/python3.12/dist-packages/sklearn/linear_model/_logistic.py:1256: FutureWarning: 'multi_class' was deprecated in version 1.5 and will be removed in 1.7. Use OneVsRestClassifier(LogisticRegression(..)) instead. Leave it to its default value to avoid this warning.\n",
            "  warnings.warn(\n"
          ]
        },
        {
          "output_type": "stream",
          "name": "stdout",
          "text": [
            "Accuracy: 0.9666666666666667\n",
            "Confusion Matrix:\n"
          ]
        },
        {
          "output_type": "display_data",
          "data": {
            "text/plain": [
              "<Figure size 800x600 with 2 Axes>"
            ],
            "image/png": "[encoded data removed]"
          },
          "metadata": {}
        }
      ]
    },
    {
      "cell_type": "code",
      "source": [
        "print(\"custom model: \\n\",classification_report(ytest,ypred))\n",
        "print()\n",
        "print(\"Sk learn model: \\n\",classification_report(ytest,sk_ypred))"
      ],
      "metadata": {
        "colab": {
          "base_uri": "https://localhost:8080/"
        },
        "id": "6wygFlq1facq",
        "outputId": "a5b6c308-1254-469a-fefc-5b5a4a5328e8"
      },
      "execution_count": 105,
      "outputs": [
        {
          "output_type": "stream",
          "name": "stdout",
          "text": [
            "custom model: \n",
            "               precision    recall  f1-score   support\n",
            "\n",
            "           0       1.00      1.00      1.00        10\n",
            "           1       1.00      1.00      1.00         9\n",
            "           2       1.00      1.00      1.00        11\n",
            "\n",
            "    accuracy                           1.00        30\n",
            "   macro avg       1.00      1.00      1.00        30\n",
            "weighted avg       1.00      1.00      1.00        30\n",
            "\n",
            "\n",
            "Sk learn model: \n",
            "               precision    recall  f1-score   support\n",
            "\n",
            "           0       1.00      1.00      1.00        10\n",
            "           1       1.00      0.89      0.94         9\n",
            "           2       0.92      1.00      0.96        11\n",
            "\n",
            "    accuracy                           0.97        30\n",
            "   macro avg       0.97      0.96      0.97        30\n",
            "weighted avg       0.97      0.97      0.97        30\n",
            "\n"
          ]
        }
      ]
    }
  ]
}